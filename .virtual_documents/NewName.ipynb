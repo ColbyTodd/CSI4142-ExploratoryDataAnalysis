import pandas as pd
import numpy as np 
import seaborn as sns
import matplotlib.pyplot as plt
%matplotlib inline

import warnings
warnings.filterwarnings('ignore')

import kagglehub
from kagglehub import KaggleDatasetAdapter

df = kagglehub.load_dataset(
    KaggleDatasetAdapter.PANDAS,
    "uciml/german-credit/versions/1",
    "german_credit_data.csv",
)

print(df.head(5))



