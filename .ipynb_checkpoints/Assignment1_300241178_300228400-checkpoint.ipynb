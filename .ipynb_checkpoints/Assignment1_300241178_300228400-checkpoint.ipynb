{
 "cells": [
  {
   "cell_type": "markdown",
   "id": "165e6830-2e76-47c1-97c3-d53d36db0e2d",
   "metadata": {
    "id": "165e6830-2e76-47c1-97c3-d53d36db0e2d"
   },
   "source": [
    "# Group 111\n",
    "\n",
    "Colby Todd 300241178\n",
    "\n",
    "Engy Elsayed 300228400"
   ]
  },
  {
   "cell_type": "markdown",
   "id": "a5be5b6f-2667-4590-b1f2-a99efc77cea1",
   "metadata": {
    "id": "a5be5b6f-2667-4590-b1f2-a99efc77cea1",
    "jp-MarkdownHeadingCollapsed": true
   },
   "source": [
    "# Introduction\n",
    "## Goal\n",
    "The overall goal of this analysis is to become familiar with EDA, and perform it on two datasets.\n",
    "\n",
    "## Target Audience\n",
    "The target audience is people learning about EDA and would like to see it performed on a German Credit dataset and F1 Drivers dataset."
   ]
  },
  {
   "cell_type": "markdown",
   "id": "0cace72b-b1c9-4f65-9b22-4619c2b15917",
   "metadata": {
    "id": "0cace72b-b1c9-4f65-9b22-4619c2b15917"
   },
   "source": [
    "# German Credit Dataset\n",
    "## Description\n",
    "The original dataset contains 1000 entries with 20 categorial/symbolic attributes prepared by Prof. Hofmann. In this dataset, each entry represents a person who takes a credit by a bank. Each person is classified as good or bad credit risks according to the set of attributes. The link to the original dataset can be found below.\n",
    " - Author: Prof. Hofmann\n",
    " - Purpose: Determing credit risk of a person\n",
    " - Shape: 10 columns, 1000 rows\n",
    " - Features:\n",
    "   - Age (Numerical)\n",
    "   - Sex (Categorical)\n",
    "   - Job (Categorical)\n",
    "   - Housing (Categorical)\n",
    "   - Saving Accounts (Categorical)\n",
    "   - Checking Account (Categorical)\n",
    "   - Credit Amount (Numerical)\n",
    "   - Duration (Numerical)\n",
    "   - Purpose (Categorical)\n",
    " - Potentially Missing Values:\n",
    "   - Saving accounts only hase 817 out of 1000 rows\n",
    "   - Checking account only has 606 out of 1000 rows"
   ]
  },
  {
   "cell_type": "code",
   "execution_count": null,
   "id": "6bcd39c3-08c7-4668-88cc-16dbfcd759d8",
   "metadata": {
    "colab": {
     "base_uri": "https://localhost:8080/"
    },
    "id": "6bcd39c3-08c7-4668-88cc-16dbfcd759d8",
    "outputId": "840d6652-4e1a-45d3-e9df-a41ae160d947",
    "scrolled": true
   },
   "outputs": [],
   "source": [
    "import pandas as pd\n",
    "import scipy\n",
    "import seaborn as sns\n",
    "import matplotlib.pyplot as plt\n",
    "%matplotlib inline\n",
    "\n",
    "import warnings\n",
    "warnings.filterwarnings('ignore')\n",
    "\n",
    "import kagglehub\n",
    "from kagglehub import KaggleDatasetAdapter\n",
    "\n",
    "# Load German Credit Dataset into a pandas dataframe\n",
    "credit_df = kagglehub.load_dataset(\n",
    "    KaggleDatasetAdapter.PANDAS,\n",
    "    \"uciml/german-credit/versions/1\",\n",
    "    \"german_credit_data.csv\",\n",
    ")\n",
    "\n",
    "credit_df['Job'].replace(0, 'Unskilled and Non Resident', inplace=True)\n",
    "credit_df['Job'].replace(1, 'Unskilled and Resident', inplace=True)\n",
    "credit_df['Job'].replace(2, 'Skilled', inplace=True)\n",
    "credit_df['Job'].replace(3, 'Highly Skilled', inplace=True)\n",
    "\n",
    "credit_df.info()"
   ]
  },
  {
   "cell_type": "markdown",
   "id": "f8bef0b1-14dd-4f8f-819b-41ac7e594134",
   "metadata": {
    "id": "f8bef0b1-14dd-4f8f-819b-41ac7e594134"
   },
   "source": [
    "## Insight 1\n",
    "The majority of germans have less than DM5000 of credit, this implies that it is either difficult for germans to get acess to more than DM5000 of credit or germans tend to not want more than DM5000 of credit.\n",
    "\n",
    "This is a univariate analysis using a histogram (r1).\n",
    "\n",
    "This evidence was obtained by analyzing the right skewed histogram."
   ]
  },
  {
   "cell_type": "code",
   "execution_count": null,
   "id": "3dc20ede-d543-4140-bed1-457458cf4375",
   "metadata": {
    "colab": {
     "base_uri": "https://localhost:8080/",
     "height": 588
    },
    "id": "3dc20ede-d543-4140-bed1-457458cf4375",
    "outputId": "7046f631-7d02-4b06-8367-7afbf2d4975a",
    "scrolled": true
   },
   "outputs": [],
   "source": [
    "plt.figure(figsize=(12, 6))\n",
    "\n",
    "# Used Reference 3\n",
    "i1 = sns.histplot(credit_df['Credit amount'])\n",
    "\n",
    "# Used Reference 2\n",
    "i1.set_xlabel(\"Credit Amount\", fontsize=14)\n",
    "i1.set_ylabel(\"Count\", fontsize=14)\n",
    "i1.set_title(\"Counts of Credit Amount\", fontsize=16)"
   ]
  },
  {
   "cell_type": "markdown",
   "id": "d8dfc79f-025c-48fd-9374-8923c25019c9",
   "metadata": {
    "id": "d8dfc79f-025c-48fd-9374-8923c25019c9"
   },
   "source": [
    "## Insight 2\n",
    "Double the amount of men have credit than women. This implies men are more likely to have credit than women.\n",
    "\n",
    "This is a univariate analysis using a countplot (r2).\n",
    "\n",
    "This evidence was obtained by analyzing the countplot."
   ]
  },
  {
   "cell_type": "code",
   "execution_count": null,
   "id": "7f03b25e-4a64-4491-afb1-42767007b247",
   "metadata": {
    "colab": {
     "base_uri": "https://localhost:8080/",
     "height": 571
    },
    "id": "7f03b25e-4a64-4491-afb1-42767007b247",
    "outputId": "184060cf-4430-423a-e5f6-dcc6a6c021db"
   },
   "outputs": [],
   "source": [
    "plt.figure(figsize=(12, 6))\n",
    "\n",
    "i2 = sns.countplot(x=\"Sex\", data=credit_df)\n",
    "\n",
    "# Used Reference 2\n",
    "i2.set_xlabel(\"Sex\", fontsize=14)\n",
    "i2.set_ylabel(\"Count\", fontsize=14)\n",
    "i2.set_title(\"Count of Each Sex\", fontsize=16)\n",
    "\n",
    "# Used Reference 4\n",
    "for p in i2.patches:\n",
    "   i2.annotate('{:.1f}'.format(p.get_height()), (p.get_x()+0.25, p.get_height()+0.01))"
   ]
  },
  {
   "cell_type": "markdown",
   "id": "015a875c-6cdf-42a6-aa94-280dddc8859f",
   "metadata": {
    "id": "015a875c-6cdf-42a6-aa94-280dddc8859f"
   },
   "source": [
    "## Insight 3\n",
    "There is no correlation between credit amount and age, this implies that the amount of debt one has isn't affected by age.\n",
    "\n",
    "This is a bivariate analysis using a scatterplot (r6).\n",
    "\n",
    "This evidence was obtained by analyzing the scatter plot and calculating the strength of correlation."
   ]
  },
  {
   "cell_type": "code",
   "execution_count": null,
   "id": "5117a5df-2d6c-483f-9b5a-6eafd47b9ad7",
   "metadata": {
    "colab": {
     "base_uri": "https://localhost:8080/",
     "height": 588
    },
    "id": "5117a5df-2d6c-483f-9b5a-6eafd47b9ad7",
    "outputId": "3f90178b-433c-44ec-a927-eef0fb9f736e"
   },
   "outputs": [],
   "source": [
    "plt.figure(figsize=(12, 6))\n",
    "\n",
    "i3 = sns.scatterplot(x='Age', y='Credit amount', data=credit_df)\n",
    "\n",
    "# Used reference 1\n",
    "# Calculate correlation coefficient between x and y\n",
    "r = scipy.stats.pearsonr(x=credit_df['Age'], y=credit_df['Credit amount'])[0]\n",
    "\n",
    "# Add correlation coefficient to plot\n",
    "i3.text(30, 10, 'r = ' + str(round(r, 2)))\n",
    "\n",
    "# Used Reference 2\n",
    "i3.set_xlabel(\"Age\", fontsize=14)\n",
    "i3.set_ylabel(\"Credit Amount\", fontsize=14)\n",
    "i3.set_title(\"Credit Amount vs Age\", fontsize=16)"
   ]
  },
  {
   "cell_type": "markdown",
   "id": "32f6d3e3-f4a3-4e7d-9e3b-7a1ec764c3ec",
   "metadata": {
    "id": "32f6d3e3-f4a3-4e7d-9e3b-7a1ec764c3ec"
   },
   "source": [
    "## Insight 4\n",
    "The majority of people are skilled workers who own their home, this implies the majority of people who have credit have good jobs and own their house.\n",
    "\n",
    "Thisi is a bivariate analysis using an ordered countplot ordered by count of owned houses (r5).\n",
    "\n",
    "This evidence was obtained by analyzing the countplot comparing jobs with housing."
   ]
  },
  {
   "cell_type": "code",
   "execution_count": null,
   "id": "6755618b-e754-47f5-be84-2f58cce97afa",
   "metadata": {
    "colab": {
     "base_uri": "https://localhost:8080/",
     "height": 588
    },
    "id": "6755618b-e754-47f5-be84-2f58cce97afa",
    "outputId": "da06d525-b35c-4c36-dae5-b09f618a23ca",
    "scrolled": true
   },
   "outputs": [],
   "source": [
    "plt.figure(figsize=(12, 6))\n",
    "\n",
    "i4 = sns.countplot(x=\"Job\", hue=\"Housing\", data=credit_df,\n",
    "                  order=credit_df[credit_df[\"Housing\"] == \"own\"]\n",
    "                    .groupby(\"Job\")\n",
    "                    .size()\n",
    "                    .sort_values(ascending=False)\n",
    "                    .index\n",
    "             )\n",
    "\n",
    "# Used Reference 2\n",
    "i4.set_xlabel(\"Job\", fontsize=14)\n",
    "i4.set_ylabel(\"Count\", fontsize=14)\n",
    "i4.set_title(\"Count of Type of Job and Housing\", fontsize=16)"
   ]
  },
  {
   "cell_type": "markdown",
   "id": "0bb5c824-422c-4ba5-ba0e-13d5e3719eaa",
   "metadata": {
    "id": "0bb5c824-422c-4ba5-ba0e-13d5e3719eaa"
   },
   "source": [
    "## Insight 5\n",
    "Men have access to more credit than women, this implies men are able to get more credit than women.\n",
    "\n",
    "This is a bivariate analysis using a box plot (r7).\n",
    "\n",
    "This evidence was obtained by analyzing the boxplot."
   ]
  },
  {
   "cell_type": "code",
   "execution_count": null,
   "id": "1714b02a-86ad-42f0-8f14-9418db458582",
   "metadata": {
    "colab": {
     "base_uri": "https://localhost:8080/",
     "height": 588
    },
    "id": "1714b02a-86ad-42f0-8f14-9418db458582",
    "outputId": "44c1051a-8c7e-449a-8292-789a84d3951b"
   },
   "outputs": [],
   "source": [
    "plt.figure(figsize=(12, 6))\n",
    "\n",
    "i5 = sns.boxplot(x=\"Sex\", y=\"Credit amount\", data=credit_df)\n",
    "\n",
    "# Used Reference 2\n",
    "i5.set_xlabel(\"Sex\", fontsize=14)\n",
    "i5.set_ylabel(\"Credit Amount\", fontsize=14)\n",
    "i5.set_title(\"Credit Amount by Sex\", fontsize=16)"
   ]
  },
  {
   "cell_type": "markdown",
   "id": "a668918f-96e0-42b1-b378-7c793625e8fc",
   "metadata": {
    "id": "a668918f-96e0-42b1-b378-7c793625e8fc"
   },
   "source": [
    "## Insight 6\n",
    "There is a large disparity between percentage of female vs male with highly skilled jobs. This implies men tend to get the highly skilled jobs over women wheter it means they were able to get better education or are more favourably looked upon for these highly skilled jobs.\n",
    "\n",
    "This is a bivariate analysis using a crosstab.\n",
    "\n",
    "This evidence was obtained by analyzing the crosstab."
   ]
  },
  {
   "cell_type": "code",
   "execution_count": null,
   "id": "757f8d0f-4ad7-4f58-86e4-0bb19525954d",
   "metadata": {
    "colab": {
     "base_uri": "https://localhost:8080/",
     "height": 237
    },
    "id": "757f8d0f-4ad7-4f58-86e4-0bb19525954d",
    "outputId": "3dfe1eef-fc16-4011-cd96-afefcdfc2dba"
   },
   "outputs": [],
   "source": [
    "pd.crosstab(credit_df['Job'], credit_df['Sex'], margins=True)"
   ]
  },
  {
   "cell_type": "markdown",
   "id": "2ba83c3e-7960-4a51-90e2-4c7e6e2c30d5",
   "metadata": {
    "id": "2ba83c3e-7960-4a51-90e2-4c7e6e2c30d5"
   },
   "source": [
    "## Insight 7\n",
    "The majority of people have credit for personal reasons, this implies people with credit are using it for personal reasons instead of necessity.\n",
    "\n",
    "This is a bivariate analysis using a countplot (r3). The data was grouped based on what type the purpose is, either personal, education, business or repairs.\n",
    "\n",
    "This evidence was obtained by looking at the countplot."
   ]
  },
  {
   "cell_type": "code",
   "execution_count": null,
   "id": "e73b08b0-a1b2-4094-94c5-a73267032186",
   "metadata": {
    "colab": {
     "base_uri": "https://localhost:8080/",
     "height": 588
    },
    "id": "e73b08b0-a1b2-4094-94c5-a73267032186",
    "outputId": "e732d74c-1447-4154-b179-872d8cc7bbde",
    "scrolled": true
   },
   "outputs": [],
   "source": [
    "plt.figure(figsize=(12, 6))\n",
    "\n",
    "# Winter2025-CSI4142-Week2-EDA-CaseStudy-Part2 Slide 9\n",
    "credit_df['Purpose'].replace('radio/TV', 'Personal', inplace=True)\n",
    "credit_df['Purpose'].replace('car', 'Personal', inplace=True)\n",
    "credit_df['Purpose'].replace('furniture/equipment', 'Personal', inplace=True)\n",
    "credit_df['Purpose'].replace('domestic appliances', 'Personal', inplace=True)\n",
    "credit_df['Purpose'].replace('vacation/others', 'Personal', inplace=True)\n",
    "i7 = sns.countplot(x='Purpose', data=credit_df)\n",
    "\n",
    "# Used Reference 2\n",
    "i7.set_xlabel(\"Purpose\", fontsize=14)\n",
    "i7.set_ylabel(\"Count\", fontsize=14)\n",
    "i7.set_title(\"Count of Credit Puporse\", fontsize=16)"
   ]
  },
  {
   "cell_type": "markdown",
   "id": "369de551-db4a-4924-8642-5edda423b3ee",
   "metadata": {
    "id": "369de551-db4a-4924-8642-5edda423b3ee"
   },
   "source": [
    "## Insight 8\n",
    "There is high linear correlation between duration and credit amount (0.62), this implies that the longer the duration the higher the credit.\n",
    "\n",
    "This is bivariate numerical/numerical analysis.\n",
    "\n",
    "The evidence was obtained through assesment of the scatter plot correlation."
   ]
  },
  {
   "cell_type": "code",
   "execution_count": null,
   "id": "bc23ab01-6874-4dd9-977e-6e5bb4ce97e7",
   "metadata": {
    "colab": {
     "base_uri": "https://localhost:8080/",
     "height": 588
    },
    "id": "bc23ab01-6874-4dd9-977e-6e5bb4ce97e7",
    "outputId": "8a679ecf-2ef8-4279-c148-3d8d75055823"
   },
   "outputs": [],
   "source": [
    "plt.figure(figsize=(12, 6))\n",
    "\n",
    "i8 = sns.scatterplot(x='Duration', y='Credit amount', data=credit_df)\n",
    "\n",
    "# Used reference 1\n",
    "# Calculate correlation coefficient between x and y\n",
    "r = scipy.stats.pearsonr(x=credit_df['Duration'], y=credit_df['Credit amount'])[0]\n",
    "\n",
    "# Add correlation coefficient to plot\n",
    "i8.text(25, 30, 'r = ' + str(round(r, 2)))\n",
    "\n",
    "# Used Reference 2\n",
    "i8.set_xlabel(\"Duration\", fontsize=14)\n",
    "i8.set_ylabel(\"Credit Amount\", fontsize=14)\n",
    "i8.set_title(\"Credit Amount vs Duration\", fontsize=16)"
   ]
  },
  {
   "cell_type": "markdown",
   "id": "d0cca470-b007-4c2a-8650-51bcc85c699a",
   "metadata": {
    "id": "d0cca470-b007-4c2a-8650-51bcc85c699a"
   },
   "source": [
    "## Insight 9\n",
    "Women get access to credit at younger ages than men, this implies young women are able to get credit easier than young men.\n",
    "\n",
    "This is a bivariate categorical/numerical analysis.\n",
    "\n",
    "The evidence was obtained through assesment of the box plot results."
   ]
  },
  {
   "cell_type": "code",
   "execution_count": null,
   "id": "e27c18d9-0da2-41a5-9ac2-c873186607d1",
   "metadata": {
    "colab": {
     "base_uri": "https://localhost:8080/",
     "height": 588
    },
    "id": "e27c18d9-0da2-41a5-9ac2-c873186607d1",
    "outputId": "4bd194d7-0546-4f29-e894-7de250dcd424"
   },
   "outputs": [],
   "source": [
    "plt.figure(figsize=(12, 6))\n",
    "\n",
    "i9 = sns.boxplot(x=\"Sex\", y=\"Age\", data=credit_df)\n",
    "\n",
    "# Used Reference 2\n",
    "i9.set_xlabel(\"Sex\", fontsize=14)\n",
    "i9.set_ylabel(\"Age\", fontsize=14)\n",
    "i9.set_title(\"Sex vs Age of Credit\", fontsize=16)"
   ]
  },
  {
   "cell_type": "markdown",
   "id": "05e7101c-2970-48fd-b0ae-bc942b5bb5e2",
   "metadata": {
    "id": "05e7101c-2970-48fd-b0ae-bc942b5bb5e2"
   },
   "source": [
    "## Insight 10\n",
    "\n",
    "We can see from this count plot that the most amount of checking account holders are either little or moderate, whereas rich people have significantly less checking accounts. This can imply that rich people do not like to keep their money in checking accounts.\n",
    "\n",
    "This is a univariate analysis using a countplot.\n",
    "\n",
    "The evidence was obtained by analyzing the countplot."
   ]
  },
  {
   "cell_type": "code",
   "execution_count": null,
   "id": "47ec58e2-202c-4cf0-9029-5a0a27f9fe7c",
   "metadata": {
    "colab": {
     "base_uri": "https://localhost:8080/",
     "height": 588
    },
    "id": "47ec58e2-202c-4cf0-9029-5a0a27f9fe7c",
    "outputId": "2fcf704f-c94f-4d07-e254-2122d33f3030"
   },
   "outputs": [],
   "source": [
    "plt.figure(figsize=(12, 6))\n",
    "\n",
    "i10 = sns.countplot(x='Checking account', data=credit_df)\n",
    "\n",
    "# Used Reference 2\n",
    "i10.set_xlabel(\"Checking Account\", fontsize=14)\n",
    "i10.set_ylabel(\"Count\", fontsize=14)\n",
    "i10.set_title(\"Count of Checking Accounts\", fontsize=16)"
   ]
  },
  {
   "cell_type": "markdown",
   "id": "2ec4e58e-6a31-4d0c-8cdf-56ebdbda9c8c",
   "metadata": {
    "id": "2ec4e58e-6a31-4d0c-8cdf-56ebdbda9c8c"
   },
   "source": [
    "# F1 Drivers dataset\n",
    "## Description\n",
    "Whether you're a seasoned motorsport enthusiast, an aspiring data scientist, or a curious fan, this dataset opens the doors to a plethora of analytical opportunities. Explore the evolution of driver strategies, track-specific adaptations, and team dynamics that contribute to the intense competition witnessed on iconic circuits worldwide. Uncover patterns, outliers, and trends that illuminate the nuances of F1 racing, shedding light on what separates the champions from the contenders.\n",
    " - Author: Aditi Awasthi\n",
    " - Purpose: Unlock the potential for groundbreaking research, data-driven storytelling, and the thrill of extracting insights from the intricate web of statistics. \"Unleashing Speed\" invites you to embark on a journey through the heart-pounding realm of Formula 1, where milliseconds make the difference and the pursuit of victory is a symphony of skill, engineering, and strategy.\n",
    " - Shape: 22 columns, 868 rows\n",
    " - Features:\n",
    "   - Driver (Categorical)\n",
    "   - Nationality (Categorical)\n",
    "   - Seasons (Categorical)\n",
    "   - Championships (Numerical)\n",
    "   - Race_Entries (Numerical)\n",
    "   - Race_Starts (Numerical)\n",
    "   - Pole_Positions (Numerical)\n",
    "   - Race_Wins (Numerical)\n",
    "   - Podiums (Numerical)\n",
    "   - Fastest_Laps (Numerical)\n",
    "   - Points (Numerical)\n",
    "   - Active (Categorical)\n",
    "   - Championship Years (Categorical)\n",
    "   - Decade (Numerical)\n",
    "   - Pole_Rate (Numerical)\n",
    "   - Start_Rate (Numerical)\n",
    "   - Win_Rate (Numerical)\n",
    "   - Podium_Rate (Numerical)\n",
    "   - FastLap_Rate (Numerical)\n",
    "   - Points_Per_Entry (Numerical)\n",
    "   - Years_Active (Numerical)\n",
    "   - Champion (Categorical)\n",
    " - Missing Values:\n",
    "   - Championship Years is potentially missing data as it only has 34 rows."
   ]
  },
  {
   "cell_type": "code",
   "execution_count": null,
   "id": "1745018e-523d-4871-bb49-7fdc19894e50",
   "metadata": {
    "colab": {
     "base_uri": "https://localhost:8080/"
    },
    "id": "1745018e-523d-4871-bb49-7fdc19894e50",
    "outputId": "6858487e-c8d4-4e64-94e8-a8b60fd92143"
   },
   "outputs": [],
   "source": [
    "# Load F1 Drivers Dataset into a pandas dataframe\n",
    "drivers_df = kagglehub.load_dataset(\n",
    "    KaggleDatasetAdapter.PANDAS,\n",
    "    \"petalme/f1-drivers-dataset/versions/2\",\n",
    "    \"F1Drivers_Dataset.csv\",\n",
    ")\n",
    "\n",
    "drivers_df.info()"
   ]
  },
  {
   "cell_type": "markdown",
   "id": "a5d0fa51-4250-47c3-ad12-2df604cc1c1e",
   "metadata": {
    "id": "a5d0fa51-4250-47c3-ad12-2df604cc1c1e"
   },
   "source": [
    "## Insight 1\n",
    "\n",
    "From this count plot, we can conclude that most Formula 1 champions came from the United Kingdom (10) where as the rest of the countries only had up to 3 champions each. Additionally, we can see that Europe has the most champions (24), followed by South America (4), North America (3), and finally Africa (1). This implies that F1 as a sport, is very European-centric, as most drivers and champions are from Europe.\n",
    "\n",
    "This is a bivariate categorical/categorical analysis. The insights were obtained by creating and analyzing the results of a count plot comparing champions and nationality."
   ]
  },
  {
   "cell_type": "code",
   "execution_count": null,
   "id": "f8352229-5f4a-45eb-9c21-de15243371d4",
   "metadata": {
    "colab": {
     "base_uri": "https://localhost:8080/",
     "height": 664
    },
    "id": "f8352229-5f4a-45eb-9c21-de15243371d4",
    "outputId": "70e0f3fb-1404-4d4d-f7df-3c4754fe9c80"
   },
   "outputs": [],
   "source": [
    "plt.figure(figsize=(12, 6))\n",
    "i1 = sns.countplot(x=\"Nationality\", data=drivers_df[drivers_df[\"Champion\"] == True])\n",
    "\n",
    "# Used Reference 2\n",
    "i1.set_xlabel(\"Nationality\", fontsize=14)\n",
    "i1.set_ylabel(\"Champions\", fontsize=14)\n",
    "i1.set_title(\"Champions by Nationality\", fontsize=16)\n",
    "\n",
    "i1.tick_params(axis='x', labelsize=12)\n",
    "\n",
    "plt.xticks(rotation=45)\n",
    "\n",
    "plt.show()"
   ]
  },
  {
   "cell_type": "markdown",
   "id": "0rZwG85pdhhM",
   "metadata": {
    "id": "0rZwG85pdhhM"
   },
   "source": [
    "## Insight 2\n",
    "\n",
    "From this count plot, we can conclude that most Formula 1 drivers have retired without ever becoming world champions. Additionally, the majority of world champions have already retired according to this plot.\n",
    "\n",
    "This is bivariate categorical/categorical analysis (r4). They both are boolean, results obtained by observing countplot."
   ]
  },
  {
   "cell_type": "code",
   "execution_count": null,
   "id": "anMKEb_1hOew",
   "metadata": {
    "colab": {
     "base_uri": "https://localhost:8080/",
     "height": 571
    },
    "id": "anMKEb_1hOew",
    "outputId": "b42ad8b2-0b0d-42d5-c435-f07b2d454aaa"
   },
   "outputs": [],
   "source": [
    "plt.figure(figsize=(12, 6))\n",
    "i2 = sns.countplot(x=\"Active\", hue=\"Champion\", data=drivers_df)\n",
    "\n",
    "# Used Reference 2\n",
    "i2.set_xlabel(\"Active\", fontsize=14)\n",
    "i2.set_ylabel(\"Champion\", fontsize=14)\n",
    "i2.set_title(\"Active Champions\", fontsize=16)\n",
    "\n",
    "plt.show()"
   ]
  },
  {
   "cell_type": "markdown",
   "id": "qFuRLXa2tDGc",
   "metadata": {
    "id": "qFuRLXa2tDGc"
   },
   "source": [
    "## Insight 3\n",
    "There is very high linear correlation between Pole Positions and Race Wins (0.95). This implies that drivers who start at the front of the pack tend to win more often.\n",
    "\n",
    "This is a bivariate numerical/numerical analysis.\n",
    "\n",
    "We reached the conclusion by analyzing the scatterplot's correlation."
   ]
  },
  {
   "cell_type": "code",
   "execution_count": null,
   "id": "D8he5lNZsZXc",
   "metadata": {
    "colab": {
     "base_uri": "https://localhost:8080/",
     "height": 588
    },
    "id": "D8he5lNZsZXc",
    "outputId": "804c1a99-2c03-4f57-cfc5-254f4c384e24"
   },
   "outputs": [],
   "source": [
    "plt.figure(figsize=(12, 6))\n",
    "\n",
    "i3 = sns.scatterplot(x=\"Pole_Positions\", y=\"Race_Wins\", data=drivers_df)\n",
    "\n",
    "# Used reference 1\n",
    "# Calculate correlation coefficient between x and y\n",
    "r = scipy.stats.pearsonr(x=drivers_df[\"Pole_Positions\"], y=drivers_df[\"Race_Wins\"])[0]\n",
    "\n",
    "# Add correlation coefficient to plot\n",
    "i3.text(5, 30, \"r = \" + str(round(r, 2)))\n",
    "\n",
    "# Used Reference 2\n",
    "i3.set_xlabel(\"Pole Positions\", fontsize=14)\n",
    "i3.set_ylabel(\"Race Wins\", fontsize=14)\n",
    "i3.set_title(\"Pole Positions vs Race Wins\", fontsize=16)"
   ]
  },
  {
   "cell_type": "markdown",
   "id": "UT3Yw8UUt9CC",
   "metadata": {
    "id": "UT3Yw8UUt9CC"
   },
   "source": [
    "## Insight 4\n",
    "It is rare for a driver to win a championship in under 7 years. This implies it takes experience to win a championship.\n",
    "\n",
    "This is a bivariate numerical/numerical analysis.\n",
    "\n",
    "We reached the conclusion by analyzing the boxplot."
   ]
  },
  {
   "cell_type": "code",
   "execution_count": null,
   "id": "PuwbUDr7uB1U",
   "metadata": {
    "colab": {
     "base_uri": "https://localhost:8080/",
     "height": 588
    },
    "id": "PuwbUDr7uB1U",
    "outputId": "5c7857fa-2740-4445-aa2f-a5dd684cf6b9"
   },
   "outputs": [],
   "source": [
    "plt.figure(figsize=(12, 6))\n",
    "i4 = sns.boxplot(x=\"Championships\", y=\"Years_Active\", data=drivers_df)\n",
    "\n",
    "# Used Reference 2\n",
    "i4.set_xlabel(\"Championships\", fontsize=14)\n",
    "i4.set_ylabel(\"Years Active\", fontsize=14)\n",
    "i4.set_title(\"Championships vs Career Longevity\", fontsize=16)"
   ]
  },
  {
   "cell_type": "markdown",
   "id": "A57pJOsgygKy",
   "metadata": {
    "id": "A57pJOsgygKy"
   },
   "source": [
    "## Insight 5\n",
    "\n",
    "There is very high linear correlation between Championships and Race Wins (0.92). This implies that drivers who win more races tend to win more world championships.\n",
    "\n",
    "This is a bivariate numerical/numerical analysis.\n",
    "\n",
    "We reached the conclusion by analyzing the scatterplot's correlation."
   ]
  },
  {
   "cell_type": "code",
   "execution_count": null,
   "id": "cr66OiC50Gf0",
   "metadata": {
    "colab": {
     "base_uri": "https://localhost:8080/",
     "height": 588
    },
    "id": "cr66OiC50Gf0",
    "outputId": "7bcd2a91-db34-4bde-b8cf-b7bb2295fb5f"
   },
   "outputs": [],
   "source": [
    "plt.figure(figsize=(12, 6))\n",
    "\n",
    "i5 = sns.scatterplot(x=\"Championships\", y=\"Race_Wins\", data=drivers_df)\n",
    "\n",
    "# Used reference 1\n",
    "# Calculate correlation coefficient between x and y\n",
    "r = scipy.stats.pearsonr(x=drivers_df[\"Championships\"], y=drivers_df[\"Race_Wins\"])[0]\n",
    "\n",
    "# Add correlation coefficient to plot\n",
    "i5.text(5, 30, \"r = \" + str(round(r, 2)))\n",
    "\n",
    "# Used Reference 2\n",
    "i5.set_xlabel(\"Championships\", fontsize=14)\n",
    "i5.set_ylabel(\"Race Wins\", fontsize=14)\n",
    "i5.set_title(\"Championships vs Race Wins\", fontsize=16)"
   ]
  },
  {
   "cell_type": "markdown",
   "id": "25rAFcBu0W0y",
   "metadata": {
    "id": "25rAFcBu0W0y"
   },
   "source": [
    "## Insight 6\n",
    "\n",
    "There is high linear correlation between Race Starts and Race Wins (0.6). This implies that drivers with more experience tend to win more races as they have more training.\n",
    "\n",
    "This is a bivariate numerical/numerical analysis.\n",
    "\n",
    "We reached the conclusion by analyzing the scatterplot's correlation."
   ]
  },
  {
   "cell_type": "code",
   "execution_count": null,
   "id": "AZ12TXT60Wf4",
   "metadata": {
    "colab": {
     "base_uri": "https://localhost:8080/",
     "height": 588
    },
    "id": "AZ12TXT60Wf4",
    "outputId": "9ae3c839-e1d8-4998-fdc7-8dae3f415ab1"
   },
   "outputs": [],
   "source": [
    "plt.figure(figsize=(12, 6))\n",
    "\n",
    "i6 = sns.scatterplot(x=\"Race_Starts\", y=\"Race_Wins\", data=drivers_df)\n",
    "\n",
    "# Used reference 1\n",
    "# Calculate correlation coefficient between x and y\n",
    "r = scipy.stats.pearsonr(x=drivers_df[\"Race_Starts\"], y=drivers_df[\"Race_Wins\"])[0]\n",
    "\n",
    "# Add correlation coefficient to plot\n",
    "i6.text(5, 30, \"r = \" + str(round(r, 2)))\n",
    "\n",
    "# Used Reference 2\n",
    "i6.set_xlabel(\"Race Starts\", fontsize=14)\n",
    "i6.set_ylabel(\"Race Wins\", fontsize=14)\n",
    "i6.set_title(\"Championships vs Race Wins\", fontsize=16)"
   ]
  },
  {
   "cell_type": "markdown",
   "id": "AfsxSNVt12Lb",
   "metadata": {
    "id": "AfsxSNVt12Lb"
   },
   "source": [
    "##Insight 7\n",
    "\n",
    "Fast Laps means the driver got the fastest lap of the entire race. There is high linear correlation between Fast Lap Rate and Points per entry (0.59). This implies that drivers who the fast laps (they receive an additional point for it) tend to, on average, score higher points per race.\n",
    "\n",
    "This is a bivariate numerical/numerical analysis.\n",
    "\n",
    "We reached the conclusion by analyzing the scatterplot's correlation."
   ]
  },
  {
   "cell_type": "code",
   "execution_count": null,
   "id": "zPSbQ1_A117J",
   "metadata": {
    "colab": {
     "base_uri": "https://localhost:8080/",
     "height": 588
    },
    "id": "zPSbQ1_A117J",
    "outputId": "e5d5f1c1-a661-4a3c-b4d0-7add377f3a1d"
   },
   "outputs": [],
   "source": [
    "plt.figure(figsize=(12, 6))\n",
    "\n",
    "i7 = sns.scatterplot(x=\"FastLap_Rate\", y=\"Points_Per_Entry\", data=drivers_df)\n",
    "\n",
    "# Used reference 1\n",
    "# Calculate correlation coefficient between x and y\n",
    "r = scipy.stats.pearsonr(x=drivers_df[\"FastLap_Rate\"], y=drivers_df[\"Points_Per_Entry\"])[0]\n",
    "\n",
    "# # Add correlation coefficient to plot\n",
    "i7.text(0, 6, \"r = \" + str(round(r, 2)))\n",
    "\n",
    "# Used Reference 2\n",
    "i7.set_xlabel(\"Fast Lap Rate\", fontsize=14)\n",
    "i7.set_ylabel(\"Points Per Entry\", fontsize=14)\n",
    "i7.set_title(\"Fast Lap Rate vs Points Per Entry\", fontsize=16)"
   ]
  },
  {
   "cell_type": "markdown",
   "id": "h2KNDsC35Was",
   "metadata": {
    "id": "h2KNDsC35Was"
   },
   "source": [
    "##Insight 8\n",
    "\n",
    "This boxplot shows that active drivers, on average, have more points per entry. This makes a lot of sense since the points system has changed in 2010 to a much higher points system (ex. 25 points for winning compared to 10). Additionally, in the old system, only the top 6 drivers were awarded points compared to 10 now. The median points per entry back then was 0.\n",
    "\n",
    "This is a bivariate categorical/numerical analysis.\n",
    "\n",
    "We reached the conclusion by analyzing the median points per race for active vs inactive drivers."
   ]
  },
  {
   "cell_type": "code",
   "execution_count": null,
   "id": "EfzCTXdx5WwR",
   "metadata": {
    "colab": {
     "base_uri": "https://localhost:8080/",
     "height": 588
    },
    "id": "EfzCTXdx5WwR",
    "outputId": "996676ca-d5d8-4f54-e7c2-985b6fa9f10d"
   },
   "outputs": [],
   "source": [
    "plt.figure(figsize=(12, 6))\n",
    "i8 = sns.boxplot(x=\"Active\", y=\"Points_Per_Entry\", data=drivers_df)\n",
    "\n",
    "# Used Reference 2\n",
    "i8.set_xlabel(\"Active\", fontsize=14)\n",
    "i8.set_ylabel(\"Points Per Entry\", fontsize=14)\n",
    "i8.set_title(\"Active vs Points Per Entry\", fontsize=16)"
   ]
  },
  {
   "cell_type": "markdown",
   "id": "7un6haKm50Tm",
   "metadata": {
    "id": "7un6haKm50Tm"
   },
   "source": [
    "##Insight 9\n",
    "\n",
    "We can see that most F1 drivers will start and end their entire career without ever winning a world championship, and very few can win more than one. This implies that winning an F1 world championship is very difficult and not obtained by many drivers.\n",
    "\n",
    "This is univariate numerical analysis. We got the insight by observing the count plot and analyzing how many have won championships compared to have not won any."
   ]
  },
  {
   "cell_type": "code",
   "execution_count": null,
   "id": "_YlnoBpZ6OE6",
   "metadata": {
    "colab": {
     "base_uri": "https://localhost:8080/",
     "height": 571
    },
    "id": "_YlnoBpZ6OE6",
    "outputId": "027a612b-f763-4bcc-c0fa-e9fcd1f7c14d"
   },
   "outputs": [],
   "source": [
    "plt.figure(figsize=(12, 6))\n",
    "i9 = sns.countplot(x=drivers_df[\"Championships\"])\n",
    "\n",
    "# Used Reference 2\n",
    "i9.set_xlabel(\"Championships\", fontsize=14)\n",
    "i9.set_ylabel(\"Count\", fontsize=14)\n",
    "i9.set_title(\"Championships Count\", fontsize=16)\n",
    "\n",
    "# Used Reference 4\n",
    "for p in i9.patches:\n",
    "   i9.annotate('{:.1f}'.format(p.get_height()), (p.get_x()+0.25, p.get_height()+0.01))"
   ]
  },
  {
   "cell_type": "markdown",
   "id": "CUjs6j579t-K",
   "metadata": {
    "id": "CUjs6j579t-K"
   },
   "source": [
    "## Insight 10\n",
    "\n",
    "We can see that the average career of an F1 driver does not surpass 1 year, and after 10-11 years, very few continue. This implies that F1 is a very cutthroat sport that does not give drivers the opportunity to continue if they do not perfrom well in the first year.\n",
    "\n",
    "This is univariate numerical analysis, and the insight was found by analyzing the count plot and viewing how long every driver has been active."
   ]
  },
  {
   "cell_type": "code",
   "execution_count": null,
   "id": "QXxzkCNw9txk",
   "metadata": {
    "colab": {
     "base_uri": "https://localhost:8080/",
     "height": 571
    },
    "id": "QXxzkCNw9txk",
    "outputId": "a844889c-2dc7-4b1e-bfa5-b9fb8f6bdf4e"
   },
   "outputs": [],
   "source": [
    "plt.figure(figsize=(12, 6))\n",
    "i10 = sns.countplot(x=drivers_df[\"Years_Active\"])\n",
    "\n",
    "# Used Reference 2\n",
    "i10.set_xlabel(\"Years Active\", fontsize=14)\n",
    "i10.set_ylabel(\"Count\", fontsize=14)\n",
    "i10.set_title(\"Count of Years Active\", fontsize=16)\n",
    "\n",
    "# Used Reference 4\n",
    "for p in i10.patches:\n",
    "   i10.annotate('{:.1f}'.format(p.get_height()), (p.get_x()+0.25, p.get_height()+0.01))"
   ]
  },
  {
   "cell_type": "markdown",
   "id": "037545df-ea0e-4ac2-9d0d-e34745255844",
   "metadata": {
    "id": "037545df-ea0e-4ac2-9d0d-e34745255844"
   },
   "source": [
    "# Conclusion\n",
    "Overall we learnt a lot about the different relationships in the data from the two datasets, and we learnt what the data is able to tell us."
   ]
  },
  {
   "cell_type": "markdown",
   "id": "c46f6bba-9680-4027-8342-7d13419979c2",
   "metadata": {
    "id": "c46f6bba-9680-4027-8342-7d13419979c2"
   },
   "source": [
    "# References\n",
    "\n",
    "1.   https://www.statology.org/seaborn-scatterplot-with-correlation-coefficient/\n",
    "2.   https://www.w3schools.com/python/matplotlib_labels.asp\n",
    "3. https://seaborn.pydata.org/generated/seaborn.histplot.html\n",
    "4. https://www.tutorialspoint.com/matplotlib-how-to-show-the-count-values-on-the-top-of-a-bar-in-a-countplot\n"
   ]
  },
  {
   "cell_type": "code",
   "execution_count": null,
   "id": "72af3320-cebf-4ee7-a82c-fddabaf34aa7",
   "metadata": {
    "id": "72af3320-cebf-4ee7-a82c-fddabaf34aa7"
   },
   "outputs": [],
   "source": []
  }
 ],
 "metadata": {
  "colab": {
   "provenance": [],
   "toc_visible": true
  },
  "kernelspec": {
   "display_name": "Python 3 (ipykernel)",
   "language": "python",
   "name": "python3"
  },
  "language_info": {
   "codemirror_mode": {
    "name": "ipython",
    "version": 3
   },
   "file_extension": ".py",
   "mimetype": "text/x-python",
   "name": "python",
   "nbconvert_exporter": "python",
   "pygments_lexer": "ipython3",
   "version": "3.9.21"
  }
 },
 "nbformat": 4,
 "nbformat_minor": 5
}
