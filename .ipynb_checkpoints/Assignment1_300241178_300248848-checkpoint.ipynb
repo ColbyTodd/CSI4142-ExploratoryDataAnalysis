{
 "cells": [
  {
   "cell_type": "markdown",
   "id": "165e6830-2e76-47c1-97c3-d53d36db0e2d",
   "metadata": {},
   "source": [
    "# Group 11\n",
    "\n",
    "Colby Todd 300241178\n",
    "\n",
    "Engy Elsayed 300248848"
   ]
  },
  {
   "cell_type": "markdown",
   "id": "a5be5b6f-2667-4590-b1f2-a99efc77cea1",
   "metadata": {},
   "source": [
    "# Introduction\n",
    "## Goal\n",
    "\n",
    "## Target Audience"
   ]
  },
  {
   "cell_type": "markdown",
   "id": "0cace72b-b1c9-4f65-9b22-4619c2b15917",
   "metadata": {},
   "source": [
    "# German Credit Dataset\n",
    "## Description\n",
    "The original dataset contains 1000 entries with 20 categorial/symbolic attributes prepared by Prof. Hofmann. In this dataset, each entry represents a person who takes a credit by a bank. Each person is classified as good or bad credit risks according to the set of attributes. The link to the original dataset can be found below.\n",
    " - Author: Prof. Hofmann\n",
    " - Purpose: Determing credit risk of a person\n",
    " - Shape: 10 columns, 1000 rows\n",
    " - Description: Financial data for credit scoring\n",
    " - Features:\n",
    "   - Age (Numerical)\n",
    "   - Sex (Categorical)\n",
    "   - Job (Categorical)\n",
    "   - Housing (Categorical)\n",
    "   - Saving Accounts (Categorical)\n",
    "   - Checking Account (Numerical)\n",
    "   - Credit Amount (Numerical)\n",
    "   - Duration (Numerical)\n",
    "   - Purpose (Categorical)"
   ]
  },
  {
   "cell_type": "code",
   "execution_count": 3,
   "id": "6bcd39c3-08c7-4668-88cc-16dbfcd759d8",
   "metadata": {},
   "outputs": [
    {
     "name": "stdout",
     "output_type": "stream",
     "text": [
      "   Unnamed: 0  Age     Sex  Job Housing Saving accounts Checking account  \\\n",
      "0           0   67    male    2     own             NaN           little   \n",
      "1           1   22  female    2     own          little         moderate   \n",
      "2           2   49    male    1     own          little              NaN   \n",
      "3           3   45    male    2    free          little           little   \n",
      "4           4   53    male    2    free          little           little   \n",
      "\n",
      "   Credit amount  Duration              Purpose  \n",
      "0           1169         6             radio/TV  \n",
      "1           5951        48             radio/TV  \n",
      "2           2096        12            education  \n",
      "3           7882        42  furniture/equipment  \n",
      "4           4870        24                  car  \n"
     ]
    }
   ],
   "source": [
    "import pandas as pd\n",
    "import numpy as np \n",
    "import seaborn as sns\n",
    "import matplotlib.pyplot as plt\n",
    "%matplotlib inline\n",
    "\n",
    "import warnings\n",
    "warnings.filterwarnings('ignore')\n",
    "\n",
    "import kagglehub\n",
    "from kagglehub import KaggleDatasetAdapter\n",
    "\n",
    "# Load German Credit Dataset into a pandas dataframe\n",
    "credit_df = kagglehub.load_dataset(\n",
    "    KaggleDatasetAdapter.PANDAS,\n",
    "    \"uciml/german-credit/versions/1\",\n",
    "    \"german_credit_data.csv\",\n",
    ")\n",
    "\n",
    "print(credit_df.head(5))"
   ]
  },
  {
   "cell_type": "markdown",
   "id": "f8bef0b1-14dd-4f8f-819b-41ac7e594134",
   "metadata": {},
   "source": [
    "## Insight 1"
   ]
  },
  {
   "cell_type": "code",
   "execution_count": null,
   "id": "3dc20ede-d543-4140-bed1-457458cf4375",
   "metadata": {},
   "outputs": [],
   "source": []
  },
  {
   "cell_type": "markdown",
   "id": "d8dfc79f-025c-48fd-9374-8923c25019c9",
   "metadata": {},
   "source": [
    "## Insight 2"
   ]
  },
  {
   "cell_type": "code",
   "execution_count": null,
   "id": "7f03b25e-4a64-4491-afb1-42767007b247",
   "metadata": {},
   "outputs": [],
   "source": []
  },
  {
   "cell_type": "markdown",
   "id": "015a875c-6cdf-42a6-aa94-280dddc8859f",
   "metadata": {},
   "source": [
    "## Insight 3"
   ]
  },
  {
   "cell_type": "code",
   "execution_count": null,
   "id": "5117a5df-2d6c-483f-9b5a-6eafd47b9ad7",
   "metadata": {},
   "outputs": [],
   "source": []
  },
  {
   "cell_type": "markdown",
   "id": "32f6d3e3-f4a3-4e7d-9e3b-7a1ec764c3ec",
   "metadata": {},
   "source": [
    "## Insight 4"
   ]
  },
  {
   "cell_type": "code",
   "execution_count": null,
   "id": "6755618b-e754-47f5-be84-2f58cce97afa",
   "metadata": {},
   "outputs": [],
   "source": []
  },
  {
   "cell_type": "markdown",
   "id": "0bb5c824-422c-4ba5-ba0e-13d5e3719eaa",
   "metadata": {},
   "source": [
    "## Insight 5"
   ]
  },
  {
   "cell_type": "code",
   "execution_count": null,
   "id": "2889e0bb-3c64-45f8-894c-77eca5dea5aa",
   "metadata": {},
   "outputs": [],
   "source": []
  },
  {
   "cell_type": "markdown",
   "id": "a668918f-96e0-42b1-b378-7c793625e8fc",
   "metadata": {},
   "source": [
    "## Insight 6"
   ]
  },
  {
   "cell_type": "code",
   "execution_count": null,
   "id": "757f8d0f-4ad7-4f58-86e4-0bb19525954d",
   "metadata": {},
   "outputs": [],
   "source": []
  },
  {
   "cell_type": "markdown",
   "id": "2ba83c3e-7960-4a51-90e2-4c7e6e2c30d5",
   "metadata": {},
   "source": [
    "## Insight 7"
   ]
  },
  {
   "cell_type": "code",
   "execution_count": null,
   "id": "e73b08b0-a1b2-4094-94c5-a73267032186",
   "metadata": {},
   "outputs": [],
   "source": []
  },
  {
   "cell_type": "markdown",
   "id": "369de551-db4a-4924-8642-5edda423b3ee",
   "metadata": {},
   "source": [
    "## Insight 8"
   ]
  },
  {
   "cell_type": "code",
   "execution_count": null,
   "id": "bc23ab01-6874-4dd9-977e-6e5bb4ce97e7",
   "metadata": {},
   "outputs": [],
   "source": []
  },
  {
   "cell_type": "markdown",
   "id": "d0cca470-b007-4c2a-8650-51bcc85c699a",
   "metadata": {},
   "source": [
    "## Insight 9"
   ]
  },
  {
   "cell_type": "code",
   "execution_count": null,
   "id": "e27c18d9-0da2-41a5-9ac2-c873186607d1",
   "metadata": {},
   "outputs": [],
   "source": []
  },
  {
   "cell_type": "markdown",
   "id": "05e7101c-2970-48fd-b0ae-bc942b5bb5e2",
   "metadata": {},
   "source": [
    "## Insight 10"
   ]
  },
  {
   "cell_type": "code",
   "execution_count": null,
   "id": "47ec58e2-202c-4cf0-9029-5a0a27f9fe7c",
   "metadata": {},
   "outputs": [],
   "source": []
  },
  {
   "cell_type": "markdown",
   "id": "037545df-ea0e-4ac2-9d0d-e34745255844",
   "metadata": {},
   "source": [
    "# Conclusion"
   ]
  },
  {
   "cell_type": "markdown",
   "id": "c46f6bba-9680-4027-8342-7d13419979c2",
   "metadata": {},
   "source": [
    "# References"
   ]
  },
  {
   "cell_type": "code",
   "execution_count": null,
   "id": "72af3320-cebf-4ee7-a82c-fddabaf34aa7",
   "metadata": {},
   "outputs": [],
   "source": []
  }
 ],
 "metadata": {
  "kernelspec": {
   "display_name": "Python 3 (ipykernel)",
   "language": "python",
   "name": "python3"
  },
  "language_info": {
   "codemirror_mode": {
    "name": "ipython",
    "version": 3
   },
   "file_extension": ".py",
   "mimetype": "text/x-python",
   "name": "python",
   "nbconvert_exporter": "python",
   "pygments_lexer": "ipython3",
   "version": "3.9.21"
  }
 },
 "nbformat": 4,
 "nbformat_minor": 5
}
